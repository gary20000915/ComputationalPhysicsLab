{
 "cells": [
  {
   "cell_type": "code",
   "execution_count": 225,
   "metadata": {},
   "outputs": [],
   "source": [
    "import numpy as np\n",
    "import matplotlib.pyplot as plt\n",
    "from nbody import Particles"
   ]
  },
  {
   "cell_type": "markdown",
   "metadata": {},
   "source": [
    "# The Particles class\n",
    "\n",
    "We could use it to handle the particle information.\n",
    "\n",
    "The class contains several properties, including tag, mass, position, velocity, acceleration, and time.\n",
    "\n",
    "For our own convenience, we want to the below data type to handle the N-body simulation:"
   ]
  },
  {
   "cell_type": "code",
   "execution_count": 226,
   "metadata": {},
   "outputs": [],
   "source": [
    "time          = 0    # the starting  time\n",
    "num_particles = 100  # number of particles\n",
    "masses        = np.ones((num_particles,1)) # needs to be an array\n",
    "positions     = np.zeros((num_particles,3)) # 3 directions\n",
    "velocities    = np.zeros((num_particles,3))\n",
    "accelerations = np.zeros((num_particles,3))\n",
    "tags          = np.linspace(1,num_particles,num_particles)"
   ]
  },
  {
   "cell_type": "markdown",
   "metadata": {},
   "source": [
    "Note that, the mass is setting to a Nx1 martrix.\\\n",
    "The reason to use Nx1 matrix but not a numpy array is because mass x velcoity is the momentum\\\n",
    "and only Nx1 matrix could multiple with an Nx3 matrix. "
   ]
  },
  {
   "cell_type": "markdown",
   "metadata": {},
   "source": [
    "We hope that could initialze particles by typing the below code.\\\n",
    "The particle class with prepare empty arrays and matrix for later on setup."
   ]
  },
  {
   "cell_type": "code",
   "execution_count": 227,
   "metadata": {},
   "outputs": [],
   "source": [
    "particles = Particles(N=num_particles) # class always CAPITALS"
   ]
  },
  {
   "cell_type": "markdown",
   "metadata": {},
   "source": [
    "The `Particles` class should handle the below APIs to setup particles"
   ]
  },
  {
   "cell_type": "code",
   "execution_count": 228,
   "metadata": {},
   "outputs": [],
   "source": [
    "particles.set_masses(mass=masses)\n",
    "particles.set_positions(pos=positions)\n",
    "particles.set_velocities(vel=velocities)\n",
    "particles.set_accelerations(acc=accelerations)\n",
    "particles.set_tags(IDs=tags)"
   ]
  },
  {
   "cell_type": "markdown",
   "metadata": {},
   "source": [
    "The `Particles` class should have the below APIs to get particle properties."
   ]
  },
  {
   "cell_type": "code",
   "execution_count": 229,
   "metadata": {},
   "outputs": [],
   "source": [
    "tags          = particles.get_tags()\n",
    "masses        = particles.get_masses()\n",
    "positions     = particles.get_positions()\n",
    "velocities    = particles.get_velocities()\n",
    "accelerations = particles.get_accelerations()"
   ]
  },
  {
   "cell_type": "markdown",
   "metadata": {},
   "source": [
    "We could also dump the particle information into a text file."
   ]
  },
  {
   "cell_type": "code",
   "execution_count": 230,
   "metadata": {},
   "outputs": [],
   "source": [
    "particles.output(fn=\"data_particles.txt\",time=time)"
   ]
  },
  {
   "cell_type": "markdown",
   "metadata": {},
   "source": [
    "The saved data could be loaded by `numpy.loadtxt`."
   ]
  },
  {
   "cell_type": "code",
   "execution_count": 231,
   "metadata": {},
   "outputs": [],
   "source": [
    "t,m,x,y,z,vx,vy,vz,ax,ay,az = np.loadtxt(\"data_particles.txt\")"
   ]
  },
  {
   "cell_type": "markdown",
   "metadata": {},
   "source": [
    "## Exercise 1.\n",
    "\n",
    "Implement the `Particles` class in `nbody.py`\\\n",
    "make sure your `Particles` can handle all above functions correctly."
   ]
  },
  {
   "cell_type": "markdown",
   "metadata": {},
   "source": [
    "## Exercie 2.\n",
    "\n",
    "Once you have the `Particles` class implmented correctly.\\\n",
    "You should be able to use it to initialzie arbitry distribution of N particles.\n",
    "\n",
    "(1) Initialize two particles that describe the Sun-Earth binary system.\n",
    "\n",
    "(2) Initialize a 3D particle clould with N particles in a normal distrbuiotn (sigma=1) and total mass equal to 10.\n",
    "\n",
    "Hints: use `numpy.random.randn` (see https://numpy.org/doc/stable/reference/random/generated/numpy.random.randn.html). "
   ]
  },
  {
   "cell_type": "code",
   "execution_count": 232,
   "metadata": {},
   "outputs": [],
   "source": [
    "def initial_SolarSystem():\n",
    "    \n",
    "    num_part = 2\n",
    "    G = 6.67428e-8\n",
    "    AU = 1.49598e13\n",
    "    mass_earth = 5.97219e27\n",
    "    mass_sun = 1.989e33\n",
    "    d_earth = AU * (mass_earth / (mass_earth + mass_sun))\n",
    "    d_sun = AU * (mass_sun / (mass_sun + mass_earth))\n",
    "    peroid = np.sqrt(4 * np.square(np.pi) * np.power(AU, 3) / (G * (mass_earth + mass_sun)))\n",
    "    vel_earth = -2 * np.pi * d_earth / peroid\n",
    "    vel_sun = 2 * np.pi * d_sun / peroid\n",
    "    acc_earth = -G * mass_earth / np.square(d_earth)\n",
    "    acc_sun =  G * mass_sun / np.square(d_sun)\n",
    "\n",
    "    particles = Particles(N = num_part)\n",
    "    \n",
    "    masses = particles.get_masses()\n",
    "    masses[0, 0] = mass_sun\n",
    "    masses[1, 0] = mass_earth\n",
    "    \n",
    "    positions = particles.get_positions()\n",
    "    positions[0, 0] = d_sun\n",
    "    positions[1, 0] = d_earth\n",
    "    \n",
    "    velocities = particles.get_velocities()\n",
    "    velocities[0, 0] = vel_sun\n",
    "    velocities[1, 0] = vel_earth\n",
    "    \n",
    "    accelerations = particles.get_accelerations()\n",
    "    accelerations[0, 0] = acc_sun\n",
    "    accelerations[1, 0] = acc_earth\n",
    "    \n",
    "    particles.set_masses(masses)\n",
    "    particles.set_positions(positions)\n",
    "    particles.set_velocities(velocities)\n",
    "    particles.set_accelerations(accelerations)\n",
    "    \n",
    "    return particles"
   ]
  },
  {
   "cell_type": "code",
   "execution_count": 233,
   "metadata": {},
   "outputs": [
    {
     "data": {
      "text/plain": [
       "1"
      ]
     },
     "execution_count": 233,
     "metadata": {},
     "output_type": "execute_result"
    }
   ],
   "source": [
    "a = np.array([[0, 1], [2, 3]])\n",
    "a[0, 1]"
   ]
  },
  {
   "cell_type": "code",
   "execution_count": 234,
   "metadata": {},
   "outputs": [],
   "source": [
    "def initial_NormalDistribution():\n",
    "    \n",
    "    num = int(10e5)\n",
    "    total_mass = 10\n",
    "    particles = Particles(N = num)\n",
    "    masses = particles.get_masses() # ones array (size = N)\n",
    "    mass = total_mass / particles.nparticles # single particel's mass\n",
    "    particles.set_masses((masses * mass))\n",
    "    positions = np.random.randn(num, 3)\n",
    "    velocities = np.random.randn(num, 3)\n",
    "    accelerations = np.random.randn(num, 3)\n",
    "    particles.set_positions(positions)\n",
    "    particles.set_velocities(velocities)\n",
    "    particles.set_accelerations(accelerations)\n",
    "    \n",
    "    return particles"
   ]
  },
  {
   "cell_type": "markdown",
   "metadata": {},
   "source": [
    "### Visualzie your particles\n",
    "\n",
    "Please visualzie the particles you asigned in the previous exercise. \n",
    "\n",
    "(a) Make a 2D projected plot on the x-y plane. \n",
    "\n",
    "(b) Make a 3D distribution of your particles."
   ]
  },
  {
   "cell_type": "code",
   "execution_count": 235,
   "metadata": {},
   "outputs": [
    {
     "data": {
      "text/plain": [
       "<matplotlib.collections.PathCollection at 0x12337d130>"
      ]
     },
     "execution_count": 235,
     "metadata": {},
     "output_type": "execute_result"
    },
    {
     "data": {
      "image/png": "[encoded data removed]",
      "text/plain": [
       "<Figure size 640x480 with 1 Axes>"
      ]
     },
     "metadata": {},
     "output_type": "display_data"
    }
   ],
   "source": [
    "pos = initial_SolarSystem().get_positions()\n",
    "plt.scatter(pos[:, 0], pos[:, 1], s = 10)"
   ]
  },
  {
   "cell_type": "code",
   "execution_count": 236,
   "metadata": {},
   "outputs": [
    {
     "data": {
      "text/plain": [
       "<matplotlib.collections.PathCollection at 0x1233eb9a0>"
      ]
     },
     "execution_count": 236,
     "metadata": {},
     "output_type": "execute_result"
    },
    {
     "data": {
      "image/png": "[encoded data removed]",
      "text/plain": [
       "<Figure size 640x480 with 1 Axes>"
      ]
     },
     "metadata": {},
     "output_type": "display_data"
    }
   ],
   "source": [
    "pos = initial_NormalDistribution().get_positions()\n",
    "plt.scatter(pos[:, 0], pos[:, 1], s = 5)"
   ]
  },
  {
   "cell_type": "markdown",
   "metadata": {},
   "source": [
    "## Use `@property` \n",
    "\n",
    "We could actually use python's `@property` to replace the getter and setter in `Particles` class.\\\n",
    "\n",
    "For example,"
   ]
  },
  {
   "cell_type": "code",
   "execution_count": 237,
   "metadata": {},
   "outputs": [],
   "source": [
    "class foo:\n",
    "    def __init__(self):\n",
    "        self._x = 0\n",
    "        return\n",
    "    def get_x(self):\n",
    "        return self._x\n",
    "    def set_x(self, value):\n",
    "        self._x = value\n",
    "        return"
   ]
  },
  {
   "cell_type": "code",
   "execution_count": 238,
   "metadata": {},
   "outputs": [
    {
     "name": "stdout",
     "output_type": "stream",
     "text": [
      "3\n"
     ]
    }
   ],
   "source": [
    "a = foo()\n",
    "a.x = 3\n",
    "value = a.x\n",
    "print(value)"
   ]
  },
  {
   "cell_type": "markdown",
   "metadata": {},
   "source": [
    "The above code is equivalent to"
   ]
  },
  {
   "cell_type": "code",
   "execution_count": 239,
   "metadata": {},
   "outputs": [],
   "source": [
    "class foo2:\n",
    "    def __init__(self):\n",
    "        self._x = 0\n",
    "        return\n",
    "    @property\n",
    "    def x(self):\n",
    "        return self._x\n",
    "\n",
    "    @x.setter\n",
    "    def x(self, value):\n",
    "        self._x = value\n",
    "        return"
   ]
  },
  {
   "cell_type": "code",
   "execution_count": 240,
   "metadata": {},
   "outputs": [
    {
     "name": "stdout",
     "output_type": "stream",
     "text": [
      "3\n"
     ]
    }
   ],
   "source": [
    "a = foo2()\n",
    "a.x = 3\n",
    "value = a.x\n",
    "print(value)"
   ]
  },
  {
   "cell_type": "code",
   "execution_count": null,
   "metadata": {},
   "outputs": [],
   "source": []
  }
 ],
 "metadata": {
  "kernelspec": {
   "display_name": "Python 3.9.13 ('comphyslab')",
   "language": "python",
   "name": "python3"
  },
  "language_info": {
   "codemirror_mode": {
    "name": "ipython",
    "version": 3
   },
   "file_extension": ".py",
   "mimetype": "text/x-python",
   "name": "python",
   "nbconvert_exporter": "python",
   "pygments_lexer": "ipython3",
   "version": "3.9.13"
  },
  "orig_nbformat": 4,
  "vscode": {
   "interpreter": {
    "hash": "800729ac04c60c48be3a7ac96153a1f7738918f4ffda2d2139f6e7f0d7fb6d16"
   }
  }
 },
 "nbformat": 4,
 "nbformat_minor": 2
}
