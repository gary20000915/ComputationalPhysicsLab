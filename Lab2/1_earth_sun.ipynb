{
 "cells": [
  {
   "cell_type": "code",
   "execution_count": 1,
   "metadata": {},
   "outputs": [],
   "source": [
    "import numpy as np\n",
    "import matplotlib.pyplot as plt\n",
    "import matplotlib.animation as animation\n",
    "from nbody.particles import Particles\n",
    "from nbody.simulation import NbodySimulation"
   ]
  },
  {
   "cell_type": "markdown",
   "metadata": {},
   "source": [
    "# Sun-Earth System\n",
    "\n",
    "In this notebook, we will test our Solar System (Sun + Earth) simulation.\\\n",
    "For convenice, that's define the `problem_name` here for handling data IO."
   ]
  },
  {
   "cell_type": "code",
   "execution_count": 2,
   "metadata": {},
   "outputs": [],
   "source": [
    "problem_name = \"test\""
   ]
  },
  {
   "cell_type": "markdown",
   "metadata": {},
   "source": [
    "Prepare physical constants"
   ]
  },
  {
   "cell_type": "code",
   "execution_count": 3,
   "metadata": {},
   "outputs": [],
   "source": [
    "msun   = 1.989e33   # gram\n",
    "mearth = 5.97219e27 # gram\n",
    "au     = 1.496e13   # cm\n",
    "day    = 86400      # sec\n",
    "year   = 365*day    # sec\n",
    "G      = 6.67e-8   # cgs"
   ]
  },
  {
   "cell_type": "markdown",
   "metadata": {},
   "source": [
    "Re-implment the particle initialze condition of the Sun+Earth system. "
   ]
  },
  {
   "cell_type": "code",
   "execution_count": 4,
   "metadata": {},
   "outputs": [],
   "source": [
    "def initialSolarSystem(particles:Particles):\n",
    "    \n",
    "    num_part = 2\n",
    "    G = 6.67428e-8\n",
    "    AU = 1.49598e13\n",
    "    mass_earth = 5.97219e27\n",
    "    mass_sun = 1.989e33\n",
    "    d_earth = AU * (mass_sun / (mass_earth + mass_sun))\n",
    "    d_sun = - AU * (mass_earth / (mass_sun + mass_earth))\n",
    "    peroid = np.sqrt(4 * np.square(np.pi) * np.power(AU, 3) / (G * (mass_earth + mass_sun)))\n",
    "    vel_earth = -2 * np.pi * d_earth / peroid\n",
    "    vel_sun = 2 * np.pi * d_sun / peroid\n",
    "    acc_earth = -G * mass_earth / np.square(d_earth)\n",
    "    acc_sun =  G * mass_sun / np.square(d_sun)\n",
    "\n",
    "    particles = Particles(N = num_part)\n",
    "    \n",
    "    masses = particles.get_masses()\n",
    "    masses[0, 0] = mass_sun\n",
    "    masses[1, 0] = mass_earth\n",
    "    \n",
    "    positions = particles.get_positions()\n",
    "    positions[0, 0] = d_sun\n",
    "    positions[1, 0] = d_earth\n",
    "    \n",
    "    velocities = particles.get_velocities()\n",
    "    velocities[0, 1] = vel_sun\n",
    "    velocities[1, 1] = vel_earth\n",
    "    \n",
    "    accelerations = particles.get_accelerations()\n",
    "    accelerations[0, 0] = acc_sun\n",
    "    accelerations[1, 0] = acc_earth\n",
    "    \n",
    "    particles.set_masses(masses)\n",
    "    particles.set_positions(positions)\n",
    "    particles.set_velocities(velocities)\n",
    "    particles.set_accelerations(accelerations)\n",
    "    \n",
    "    return particles"
   ]
  },
  {
   "cell_type": "markdown",
   "metadata": {},
   "source": [
    "Once we initialize the particles, we could run our simulation by"
   ]
  },
  {
   "cell_type": "code",
   "execution_count": 5,
   "metadata": {},
   "outputs": [
    {
     "ename": "AttributeError",
     "evalue": "'Particles' object has no attribute 'get_U'",
     "output_type": "error",
     "traceback": [
      "\u001b[0;31m---------------------------------------------------------------------------\u001b[0m",
      "\u001b[0;31mAttributeError\u001b[0m                            Traceback (most recent call last)",
      "Cell \u001b[0;32mIn [5], line 5\u001b[0m\n\u001b[1;32m      3\u001b[0m sim \u001b[39m=\u001b[39m NbodySimulation(particles)\n\u001b[1;32m      4\u001b[0m sim\u001b[39m.\u001b[39msetup(G\u001b[39m=\u001b[39mG,method\u001b[39m=\u001b[39m\u001b[39m\"\u001b[39m\u001b[39mRK4\u001b[39m\u001b[39m\"\u001b[39m,io_freq\u001b[39m=\u001b[39m\u001b[39m20\u001b[39m,io_title\u001b[39m=\u001b[39mproblem_name,io_screen\u001b[39m=\u001b[39m\u001b[39mTrue\u001b[39;00m,visualized\u001b[39m=\u001b[39m\u001b[39mFalse\u001b[39;00m)\n\u001b[0;32m----> 5\u001b[0m sim\u001b[39m.\u001b[39;49mevolve(dt\u001b[39m=\u001b[39;49m\u001b[39m0.1\u001b[39;49m\u001b[39m*\u001b[39;49mday,tmax\u001b[39m=\u001b[39;49m\u001b[39m5\u001b[39;49m\u001b[39m*\u001b[39;49myear)\n",
      "File \u001b[0;32m~/Library/CloudStorage/OneDrive-清華大學/NTHU111fall/Computational Physcics Lab/Lecture/ComputationalPhysicsLab/Lab2/nbody/simulation.py:286\u001b[0m, in \u001b[0;36mNbodySimulation.evolve\u001b[0;34m(self, dt, tmax)\u001b[0m\n\u001b[1;32m    283\u001b[0m EE \u001b[39m=\u001b[39m np\u001b[39m.\u001b[39mzeros((step, \u001b[39m1\u001b[39m))\n\u001b[1;32m    284\u001b[0m \u001b[39mfor\u001b[39;00m i \u001b[39min\u001b[39;00m \u001b[39mrange\u001b[39m(step):\n\u001b[1;32m    285\u001b[0m     \u001b[39m# update particles\u001b[39;00m\n\u001b[0;32m--> 286\u001b[0m     particles \u001b[39m=\u001b[39m _update_particles(dt, particles)[\u001b[39m0\u001b[39m]\n\u001b[1;32m    287\u001b[0m     UU[i] \u001b[39m=\u001b[39m _update_particles(dt, particles)[\u001b[39m1\u001b[39m]\n\u001b[1;32m    288\u001b[0m     KK[i] \u001b[39m=\u001b[39m _update_particles(dt, particles)[\u001b[39m2\u001b[39m]\n",
      "File \u001b[0;32m~/Library/CloudStorage/OneDrive-清華大學/NTHU111fall/Computational Physcics Lab/Lecture/ComputationalPhysicsLab/Lab2/nbody/simulation.py:404\u001b[0m, in \u001b[0;36mNbodySimulation._update_particles_rk4\u001b[0;34m(self, dt, particles)\u001b[0m\n\u001b[1;32m    402\u001b[0m pos \u001b[39m=\u001b[39m particles\u001b[39m.\u001b[39mget_positions()\n\u001b[1;32m    403\u001b[0m vel \u001b[39m=\u001b[39m particles\u001b[39m.\u001b[39mget_velocities()\n\u001b[0;32m--> 404\u001b[0m acc \u001b[39m=\u001b[39m \u001b[39mself\u001b[39;49m\u001b[39m.\u001b[39;49m_calculate_acceleration(mass, pos)[\u001b[39m0\u001b[39m]\n\u001b[1;32m    406\u001b[0m y0 \u001b[39m=\u001b[39m np\u001b[39m.\u001b[39marray([pos, vel])\n\u001b[1;32m    407\u001b[0m yder \u001b[39m=\u001b[39m np\u001b[39m.\u001b[39marray([vel, acc])\n",
      "File \u001b[0;32m~/Library/CloudStorage/OneDrive-清華大學/NTHU111fall/Computational Physcics Lab/Lecture/ComputationalPhysicsLab/Lab2/nbody/simulation.py:349\u001b[0m, in \u001b[0;36mNbodySimulation._calculate_acceleration\u001b[0;34m(self, mass, pos)\u001b[0m\n\u001b[1;32m    347\u001b[0m posz \u001b[39m=\u001b[39m pos[:, \u001b[39m2\u001b[39m]\n\u001b[1;32m    348\u001b[0m N \u001b[39m=\u001b[39m \u001b[39mself\u001b[39m\u001b[39m.\u001b[39mnparticles\n\u001b[0;32m--> 349\u001b[0m U \u001b[39m=\u001b[39m particles\u001b[39m.\u001b[39;49mget_U()\n\u001b[1;32m    350\u001b[0m K \u001b[39m=\u001b[39m particles\u001b[39m.\u001b[39mget_K()\n\u001b[1;32m    351\u001b[0m vel_square \u001b[39m=\u001b[39m np\u001b[39m.\u001b[39msquare(particles\u001b[39m.\u001b[39mget_velocities())\n",
      "\u001b[0;31mAttributeError\u001b[0m: 'Particles' object has no attribute 'get_U'"
     ]
    }
   ],
   "source": [
    "particles = Particles(N=2)\n",
    "particles = initialSolarSystem(particles)\n",
    "sim = NbodySimulation(particles)\n",
    "sim.setup(G=G,method=\"RK4\",io_freq=20,io_title=problem_name,io_screen=True,visualized=False)\n",
    "sim.evolve(dt=0.1*day,tmax=5*year)"
   ]
  },
  {
   "cell_type": "markdown",
   "metadata": {},
   "source": [
    "# Load data and Visualization\n",
    "\n",
    "note: `conda install -c conda-forge ffmpeg` might be necessary"
   ]
  },
  {
   "cell_type": "code",
   "execution_count": null,
   "metadata": {},
   "outputs": [],
   "source": [
    "import glob"
   ]
  },
  {
   "cell_type": "code",
   "execution_count": null,
   "metadata": {},
   "outputs": [],
   "source": [
    "fns = \"data_\"+problem_name+\"/\"+\"data_\"+problem_name+\"_[0-9][0-9][0-9][0-9][0-9].txt\"\n",
    "fns = glob.glob(fns)\n",
    "fns.sort()\n",
    "# print(fns)"
   ]
  },
  {
   "cell_type": "code",
   "execution_count": null,
   "metadata": {},
   "outputs": [],
   "source": [
    "scale = 2 * au\n",
    "\n",
    "fig, ax =plt.subplots()\n",
    "fig.set_size_inches(10.5, 10.5, forward=True)\n",
    "fig.set_dpi(72)\n",
    "ol,   = ax.plot([0,au],[0,0],'ro',alpha=0.3) # the initial conditions\n",
    "line, = ax.plot([],[],'o')                   # plots of particles\n",
    "\n",
    "def init():\n",
    "    ax.set_xlim(-scale,scale)\n",
    "    ax.set_ylim(-scale,scale)\n",
    "    ax.set_aspect('equal')\n",
    "    ax.set_xlabel('X [code unit]')\n",
    "    ax.set_ylabel('Y [code unit]')\n",
    "    return line,\n",
    "\n",
    "def updateParticles(frame):\n",
    "    fn = fns[frame]\n",
    "    m,t,x,y,z,vx,vy,vz,ax,ay,az = np.loadtxt(fn)\n",
    "    # print(\"loadtxt done\",fn)\n",
    "    line.set_data(x,y)\n",
    "    return line,\n",
    "\n",
    "ani = animation.FuncAnimation(fig, updateParticles, frames=len(fns),init_func=init, blit=True)\n",
    "ani.save('movie_'+problem_name+'.mp4',fps=10)"
   ]
  }
 ],
 "metadata": {
  "kernelspec": {
   "display_name": "Python 3.9.15 ('comphyslab')",
   "language": "python",
   "name": "python3"
  },
  "language_info": {
   "codemirror_mode": {
    "name": "ipython",
    "version": 3
   },
   "file_extension": ".py",
   "mimetype": "text/x-python",
   "name": "python",
   "nbconvert_exporter": "python",
   "pygments_lexer": "ipython3",
   "version": "3.9.15"
  },
  "orig_nbformat": 4,
  "vscode": {
   "interpreter": {
    "hash": "eeea1ce61b540986bdb81269f410f173c0c0cba22073620a68832cfc592c0b3f"
   }
  }
 },
 "nbformat": 4,
 "nbformat_minor": 2
}
