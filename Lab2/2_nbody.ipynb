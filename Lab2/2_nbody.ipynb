{
 "cells": [
  {
   "cell_type": "code",
   "execution_count": 1,
   "metadata": {},
   "outputs": [],
   "source": [
    "import numpy as np\n",
    "import glob\n",
    "from numba import set_num_threads\n",
    "import matplotlib.pyplot as plt\n",
    "from mpl_toolkits.mplot3d import Axes3D\n",
    "import matplotlib.animation as animation\n",
    "from nbody import Particles, NbodySimulation"
   ]
  },
  {
   "cell_type": "markdown",
   "metadata": {},
   "source": [
    "# N-Body Simulations\n",
    "\n",
    "In this notebook, we will run a N particles simulation which randomly initialized with normal distribution."
   ]
  },
  {
   "cell_type": "code",
   "execution_count": 2,
   "metadata": {},
   "outputs": [],
   "source": [
    "problem_name = \"random_debug\""
   ]
  },
  {
   "cell_type": "markdown",
   "metadata": {},
   "source": [
    "First, we should create a function to initialize N particles:"
   ]
  },
  {
   "cell_type": "code",
   "execution_count": 3,
   "metadata": {},
   "outputs": [],
   "source": [
    "def initialRandomParticles(N):\n",
    "        \"\"\"\n",
    "        Initial particles\n",
    "\n",
    "        \"\"\"\n",
    "\n",
    "        return particles"
   ]
  },
  {
   "cell_type": "markdown",
   "metadata": {},
   "source": [
    "Once partciles are initialized, we could simply call our solver to solve it. "
   ]
  },
  {
   "cell_type": "code",
   "execution_count": 4,
   "metadata": {},
   "outputs": [],
   "source": [
    "# Initial particles here.\n",
    "\n",
    "# Run the n-body simulations"
   ]
  },
  {
   "cell_type": "markdown",
   "metadata": {},
   "source": [
    "### Visualization\n",
    "\n",
    "load data"
   ]
  },
  {
   "cell_type": "code",
   "execution_count": 5,
   "metadata": {},
   "outputs": [],
   "source": [
    "fns = \"data_\"+problem_name+\"/\"+problem_name+\"_[0-9][0-9][0-9][0-9][0-9].txt\"\n",
    "fns = glob.glob(fns)\n",
    "fns.sort()"
   ]
  },
  {
   "cell_type": "markdown",
   "metadata": {},
   "source": [
    "save to a movie"
   ]
  },
  {
   "cell_type": "code",
   "execution_count": 6,
   "metadata": {},
   "outputs": [
    {
     "name": "stderr",
     "output_type": "stream",
     "text": [
      "MovieWriter ffmpeg unavailable; using Pillow instead.\n"
     ]
    },
    {
     "ename": "IndexError",
     "evalue": "list index out of range",
     "output_type": "error",
     "traceback": [
      "\u001b[0;31m---------------------------------------------------------------------------\u001b[0m",
      "\u001b[0;31mIndexError\u001b[0m                                Traceback (most recent call last)",
      "Cell \u001b[0;32mIn [6], line 25\u001b[0m\n\u001b[1;32m     22\u001b[0m     \u001b[39mreturn\u001b[39;00m line,\n\u001b[1;32m     24\u001b[0m ani \u001b[39m=\u001b[39m animation\u001b[39m.\u001b[39mFuncAnimation(fig, updateParticles, frames\u001b[39m=\u001b[39m\u001b[39mlen\u001b[39m(fns),init_func\u001b[39m=\u001b[39minit, blit\u001b[39m=\u001b[39m\u001b[39mTrue\u001b[39;00m)\n\u001b[0;32m---> 25\u001b[0m ani\u001b[39m.\u001b[39;49msave(\u001b[39m'\u001b[39;49m\u001b[39mmovie_\u001b[39;49m\u001b[39m'\u001b[39;49m\u001b[39m+\u001b[39;49mproblem_name\u001b[39m+\u001b[39;49m\u001b[39m'\u001b[39;49m\u001b[39m.mp4\u001b[39;49m\u001b[39m'\u001b[39;49m,fps\u001b[39m=\u001b[39;49m\u001b[39m10\u001b[39;49m)\n",
      "File \u001b[0;32m~/opt/anaconda3/envs/comphyslab/lib/python3.9/site-packages/matplotlib/animation.py:1093\u001b[0m, in \u001b[0;36mAnimation.save\u001b[0;34m(self, filename, writer, fps, dpi, codec, bitrate, extra_args, metadata, extra_anim, savefig_kwargs, progress_callback)\u001b[0m\n\u001b[1;32m   1091\u001b[0m         progress_callback(frame_number, total_frames)\n\u001b[1;32m   1092\u001b[0m         frame_number \u001b[39m+\u001b[39m\u001b[39m=\u001b[39m \u001b[39m1\u001b[39m\n\u001b[0;32m-> 1093\u001b[0m writer\u001b[39m.\u001b[39mgrab_frame(\u001b[39m*\u001b[39m\u001b[39m*\u001b[39msavefig_kwargs)\n",
      "File \u001b[0;32m~/opt/anaconda3/envs/comphyslab/lib/python3.9/contextlib.py:126\u001b[0m, in \u001b[0;36m_GeneratorContextManager.__exit__\u001b[0;34m(self, typ, value, traceback)\u001b[0m\n\u001b[1;32m    124\u001b[0m \u001b[39mif\u001b[39;00m typ \u001b[39mis\u001b[39;00m \u001b[39mNone\u001b[39;00m:\n\u001b[1;32m    125\u001b[0m     \u001b[39mtry\u001b[39;00m:\n\u001b[0;32m--> 126\u001b[0m         \u001b[39mnext\u001b[39;49m(\u001b[39mself\u001b[39;49m\u001b[39m.\u001b[39;49mgen)\n\u001b[1;32m    127\u001b[0m     \u001b[39mexcept\u001b[39;00m \u001b[39mStopIteration\u001b[39;00m:\n\u001b[1;32m    128\u001b[0m         \u001b[39mreturn\u001b[39;00m \u001b[39mFalse\u001b[39;00m\n",
      "File \u001b[0;32m~/opt/anaconda3/envs/comphyslab/lib/python3.9/site-packages/matplotlib/animation.py:236\u001b[0m, in \u001b[0;36mAbstractMovieWriter.saving\u001b[0;34m(self, fig, outfile, dpi, *args, **kwargs)\u001b[0m\n\u001b[1;32m    234\u001b[0m     \u001b[39myield\u001b[39;00m \u001b[39mself\u001b[39m\n\u001b[1;32m    235\u001b[0m \u001b[39mfinally\u001b[39;00m:\n\u001b[0;32m--> 236\u001b[0m     \u001b[39mself\u001b[39;49m\u001b[39m.\u001b[39;49mfinish()\n",
      "File \u001b[0;32m~/opt/anaconda3/envs/comphyslab/lib/python3.9/site-packages/matplotlib/animation.py:512\u001b[0m, in \u001b[0;36mPillowWriter.finish\u001b[0;34m(self)\u001b[0m\n\u001b[1;32m    511\u001b[0m \u001b[39mdef\u001b[39;00m \u001b[39mfinish\u001b[39m(\u001b[39mself\u001b[39m):\n\u001b[0;32m--> 512\u001b[0m     \u001b[39mself\u001b[39;49m\u001b[39m.\u001b[39;49m_frames[\u001b[39m0\u001b[39;49m]\u001b[39m.\u001b[39msave(\n\u001b[1;32m    513\u001b[0m         \u001b[39mself\u001b[39m\u001b[39m.\u001b[39moutfile, save_all\u001b[39m=\u001b[39m\u001b[39mTrue\u001b[39;00m, append_images\u001b[39m=\u001b[39m\u001b[39mself\u001b[39m\u001b[39m.\u001b[39m_frames[\u001b[39m1\u001b[39m:],\n\u001b[1;32m    514\u001b[0m         duration\u001b[39m=\u001b[39m\u001b[39mint\u001b[39m(\u001b[39m1000\u001b[39m \u001b[39m/\u001b[39m \u001b[39mself\u001b[39m\u001b[39m.\u001b[39mfps), loop\u001b[39m=\u001b[39m\u001b[39m0\u001b[39m)\n",
      "\u001b[0;31mIndexError\u001b[0m: list index out of range"
     ]
    },
    {
     "data": {
      "image/png": "[encoded data removed]",
      "text/plain": [
       "<Figure size 756x756 with 1 Axes>"
      ]
     },
     "metadata": {},
     "output_type": "display_data"
    }
   ],
   "source": [
    "scale = 3 \n",
    "\n",
    "fig, ax =plt.subplots()\n",
    "fig.set_size_inches(10.5, 10.5, forward=True)\n",
    "fig.set_dpi(72)\n",
    "line, = ax.plot([],[],'o')\n",
    "\n",
    "def init():\n",
    "    ax.set_xlim(-1*scale,1*scale)\n",
    "    ax.set_ylim(-1*scale,1*scale)\n",
    "    ax.set_aspect('equal')\n",
    "    ax.set_xlabel('X [code unit]')\n",
    "    ax.set_ylabel('Y [code unit]')\n",
    "    return line,\n",
    "\n",
    "def updateParticles(frame):\n",
    "    fn = fns[frame]\n",
    "    m,t,x,y,z,vx,vy,vz,ax,ay,az = np.loadtxt(fn)\n",
    "    #print(\"loadtxt done\",fn)\n",
    "    line.set_data(x,y)\n",
    "    plt.title(\"Step =\"+str(frame))\n",
    "    return line,\n",
    "\n",
    "ani = animation.FuncAnimation(fig, updateParticles, frames=len(fns),init_func=init, blit=True)\n",
    "ani.save('movie_'+problem_name+'.mp4',fps=10)"
   ]
  },
  {
   "cell_type": "markdown",
   "metadata": {},
   "source": [
    "# Performance\n",
    "\n",
    "Or N-body code looks fine now. It is the time to measure the performance.\n"
   ]
  },
  {
   "cell_type": "code",
   "execution_count": null,
   "metadata": {},
   "outputs": [],
   "source": []
  },
  {
   "cell_type": "code",
   "execution_count": null,
   "metadata": {},
   "outputs": [],
   "source": [
    "%timeit sim.evolve(dt=0.01,tmax=1)"
   ]
  },
  {
   "cell_type": "markdown",
   "metadata": {},
   "source": [
    "It is quite slow!!! \n",
    "\n",
    "Beacuse the accerlation calculations requires order of NxN calculations!\n",
    "Could we improve it?\n",
    "\n",
    "First, we should avoid the two \"for\" loops in the calculation using python.\\\n",
    "Second, we have many cup cores in our machine. Could we parallelize it?"
   ]
  },
  {
   "cell_type": "markdown",
   "metadata": {},
   "source": [
    "### 1. use `numba` to speed up\n",
    "\n",
    "note. you might need to install numba by `conda install numba`.\n",
    "\n",
    "Step 0. See the jupyer notebook `2_1_numba_tutorial.ipynb`.\n",
    "\n",
    "Step 1. Seperate the function to calculate the accerlation in a pure function that only counts math calculations.\n",
    "\n",
    "Step 2. Use the `numba`'s `@jit` micro. \n",
    "\n",
    "Results: In my experiments. I got roughly x140 speed up with the @jit(nopython=True). \n",
    "\n",
    "Step 3. Try using `@njit` and `prange` in numba."
   ]
  },
  {
   "cell_type": "code",
   "execution_count": null,
   "metadata": {},
   "outputs": [],
   "source": [
    "%timeit sim.evolve(dt=0.02,tmax=1)"
   ]
  },
  {
   "cell_type": "markdown",
   "metadata": {},
   "source": [
    "### Kuo-Chuan's measurements.\n",
    "\n",
    "For 1000 particles and running for 50 steps\n",
    "\n",
    "without `numba` (estimated from 5 step calculations)\\\n",
    "`2min 10s ± 2.47 s per loop (mean ± std. dev. of 7 runs, 1 loop each)`.\\\n",
    "It costs roughly, `1300 s` for 50 steps. \n",
    "\n",
    "with `numba`'s `@jit`.\\\n",
    "`7.98 s ± 67.8 ms per loop (mean ± std. dev. of 7 runs, 1 loop each)`\n",
    "( x162 speedup)\n",
    "\n",
    "with `numba`'s `@njit(parallel=True)` and `prange`\n",
    "\n",
    "cores\n",
    "```\n",
    "1   8.06 s ± 122 ms per loop (mean ± std. dev. of 7 runs, 1 loop each)\n",
    "2   5.9 s ± 54 ms per loop (mean ± std. dev. of 7 runs, 1 loop each)\n",
    "4   3.84 s ± 72.2 ms per loop (mean ± std. dev. of 7 runs, 1 loop each)\n",
    "8   2.34 s ± 32.3 ms per loop (mean ± std. dev. of 7 runs, 1 loop each)\n",
    "12  1.79 s ± 34.4 ms per loop (mean ± std. dev. of 7 runs, 1 loop each)\n",
    "16  1.66 s ± 72.6 ms per loop (mean ± std. dev. of 7 runs, 1 loop each)\n",
    "```"
   ]
  },
  {
   "cell_type": "code",
   "execution_count": null,
   "metadata": {},
   "outputs": [],
   "source": []
  }
 ],
 "metadata": {
  "kernelspec": {
   "display_name": "Python 3.9.15 ('comphyslab')",
   "language": "python",
   "name": "python3"
  },
  "language_info": {
   "codemirror_mode": {
    "name": "ipython",
    "version": 3
   },
   "file_extension": ".py",
   "mimetype": "text/x-python",
   "name": "python",
   "nbconvert_exporter": "python",
   "pygments_lexer": "ipython3",
   "version": "3.9.15"
  },
  "orig_nbformat": 4,
  "vscode": {
   "interpreter": {
    "hash": "eeea1ce61b540986bdb81269f410f173c0c0cba22073620a68832cfc592c0b3f"
   }
  }
 },
 "nbformat": 4,
 "nbformat_minor": 2
}
