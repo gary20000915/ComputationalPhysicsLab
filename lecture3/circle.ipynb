{
 "cells": [
  {
   "cell_type": "markdown",
   "metadata": {},
   "source": [
    "# Pi calculation"
   ]
  },
  {
   "cell_type": "markdown",
   "metadata": {},
   "source": [
    "1. define the quarter-circle function.\n",
    "2. do a for-loop to sum the area of the circle "
   ]
  },
  {
   "cell_type": "code",
   "execution_count": 164,
   "metadata": {},
   "outputs": [],
   "source": [
    "import numpy as np"
   ]
  },
  {
   "cell_type": "code",
   "execution_count": 165,
   "metadata": {},
   "outputs": [],
   "source": [
    "# Set how many small rectangles.\n",
    "N = int(10E6)"
   ]
  },
  {
   "cell_type": "code",
   "execution_count": 166,
   "metadata": {},
   "outputs": [
    {
     "name": "stdout",
     "output_type": "stream",
     "text": [
      "(3.1415928535523587,)\n",
      "4.93 s ± 6.48 ms per loop (mean ± std. dev. of 7 runs, 1 loop each)\n"
     ]
    }
   ],
   "source": [
    "# method 1, use original\n",
    "def cal_meth1(N: int):\n",
    "  dx = 1/N\n",
    "  area = 0\n",
    "\n",
    "  for i in range (0, N + 1, 1):\n",
    "    h = np.sqrt(1 - (i/N)**2)\n",
    "    area += dx * h\n",
    "\n",
    "  Area = area * 4\n",
    "  return Area, #print(Area)\n",
    "\n",
    "print(cal_meth1(N))\n",
    "%timeit cal_meth1(N)"
   ]
  },
  {
   "cell_type": "code",
   "execution_count": 167,
   "metadata": {},
   "outputs": [
    {
     "name": "stdout",
     "output_type": "stream",
     "text": [
      "47.8 ms ± 212 µs per loop (mean ± std. dev. of 7 runs, 10 loops each)\n"
     ]
    }
   ],
   "source": [
    "# method 2, use linspace instead.\n",
    "def cal_meth2(N: int):\n",
    "  dx = 1/N\n",
    "  area = 0\n",
    "  x = np.linspace(0, 1, N)\n",
    "  y = np.sqrt(1 - x**2)\n",
    "  area = np.sum(dx*y)\n",
    "  Area = area * 4\n",
    "  \n",
    "  return Area\n",
    "\n",
    "%timeit cal_meth2(N = N)"
   ]
  },
  {
   "cell_type": "code",
   "execution_count": 168,
   "metadata": {},
   "outputs": [
    {
     "name": "stdout",
     "output_type": "stream",
     "text": [
      "5.44 s ± 54 ms per loop (mean ± std. dev. of 7 runs, 1 loop each)\n"
     ]
    }
   ],
   "source": [
    "# method 3, use linspace with for-loop\n",
    "def cal_meth3(N: int):\n",
    "  area = 0\n",
    "  dx = 1/N\n",
    "  loc = np.linspace(0, 1, N)\n",
    "  for i in range(0, N):\n",
    "    h = np.sqrt(1 - loc[i]**2)\n",
    "    area += dx * h\n",
    "\n",
    "  Area = area * 4\n",
    "  return Area\n",
    "  \n",
    "%timeit cal_meth3(N = N)"
   ]
  }
 ],
 "metadata": {
  "kernelspec": {
   "display_name": "Python 3.9.13 ('comphyslab')",
   "language": "python",
   "name": "python3"
  },
  "language_info": {
   "codemirror_mode": {
    "name": "ipython",
    "version": 3
   },
   "file_extension": ".py",
   "mimetype": "text/x-python",
   "name": "python",
   "nbconvert_exporter": "python",
   "pygments_lexer": "ipython3",
   "version": "3.9.13"
  },
  "orig_nbformat": 4,
  "vscode": {
   "interpreter": {
    "hash": "800729ac04c60c48be3a7ac96153a1f7738918f4ffda2d2139f6e7f0d7fb6d16"
   }
  }
 },
 "nbformat": 4,
 "nbformat_minor": 2
}
