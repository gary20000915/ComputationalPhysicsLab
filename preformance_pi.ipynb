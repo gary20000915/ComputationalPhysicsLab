{
 "cells": [
  {
   "cell_type": "markdown",
   "metadata": {},
   "source": [
    "## Computational Physics Lab \n",
    "Yuan-Yen Peng   \n",
    "Dept of Physics, NTHU, Taiwan     "
   ]
  },
  {
   "cell_type": "code",
   "execution_count": null,
   "metadata": {},
   "outputs": [],
   "source": [
    "import numpy as np\n",
    "import matplotlib.pyplot as plt\n",
    "import time\n",
    "\n",
    "N = int(10E3)"
   ]
  },
  {
   "cell_type": "code",
   "execution_count": null,
   "metadata": {},
   "outputs": [],
   "source": [
    "# method 1, use hand writing for-loop.\n",
    "def cal_meth1(N: int):\n",
    "  dx = 1/N\n",
    "  area = 0\n",
    "\n",
    "  for i in range (0, N + 1, 1):\n",
    "    h = np.sqrt(1 - (i/N)**2)\n",
    "    area += dx * h\n",
    "  Area = area * 4\n",
    "  \n",
    "  return Area\n",
    "\n",
    "\n",
    "t1 = time.time()\n",
    "X = np.linspace(1, N, N)\n",
    "Y = np.array([])\n",
    "for i in range (0, N):\n",
    "  Y = np.append(Y, cal_meth1(int(X[i])))\n",
    "t2 = time.time()\n",
    "\n",
    "print(\"time different = \", [t2 - t1])\n",
    "plt.plot(X, Y, \".\", color = \"r\", label = \"N = 10E4\")"
   ]
  },
  {
   "cell_type": "code",
   "execution_count": null,
   "metadata": {},
   "outputs": [],
   "source": [
    "# method 2, use default sum.\n",
    "def cal_meth2(N: int):\n",
    "  dx = 1/N\n",
    "  area = 0\n",
    "  \n",
    "  x = np.linspace(0, 1, N)\n",
    "  y = np.sqrt(1 - x**2)\n",
    "  area = sum(dx*y)\n",
    "  Area = area * 4\n",
    "  \n",
    "  return Area\n",
    "\n",
    "t1 = time.time()\n",
    "X = np.linspace(1, N, N)\n",
    "Y = np.array([])\n",
    "for i in range (0, N):\n",
    "  Y = np.append(Y, cal_meth2(int(X[i])))\n",
    "t2 = time.time()\n",
    "\n",
    "print(\"time different = \", [t2 - t1])\n",
    "plt.plot(X, Y, \".\", color = \"g\", label = \"N = 10E4\")"
   ]
  },
  {
   "cell_type": "code",
   "execution_count": null,
   "metadata": {},
   "outputs": [],
   "source": [
    "# method 3, use numpy.sum.\n",
    "def cal_meth3(N: int):\n",
    "  dx = 1/N\n",
    "  area = 0\n",
    "  \n",
    "  x = np.linspace(0, 1, N)\n",
    "  y = np.sqrt(1 - x**2)\n",
    "  area = np.sum(dx*y)\n",
    "  Area = area * 4\n",
    "  \n",
    "  return Area\n",
    "\n",
    "t1 = time.time()\n",
    "X = np.linspace(1, N, N)\n",
    "Y = np.array([])\n",
    "for i in range (0, N):\n",
    "  Y = np.append(Y, cal_meth3(int(X[i])))\n",
    "t2 = time.time()\n",
    "\n",
    "print(\"time different = \", [t2 - t1])\n",
    "plt.plot(X, Y, \".\", color = \"b\", label = \"N = 10E4\")"
   ]
  }
 ],
 "metadata": {
  "kernelspec": {
   "display_name": "Python 3.9.13 ('comphyslab')",
   "language": "python",
   "name": "python3"
  },
  "language_info": {
   "codemirror_mode": {
    "name": "ipython",
    "version": 3
   },
   "file_extension": ".py",
   "mimetype": "text/x-python",
   "name": "python",
   "nbconvert_exporter": "python",
   "pygments_lexer": "ipython3",
   "version": "3.9.13"
  },
  "orig_nbformat": 4,
  "vscode": {
   "interpreter": {
    "hash": "800729ac04c60c48be3a7ac96153a1f7738918f4ffda2d2139f6e7f0d7fb6d16"
   }
  }
 },
 "nbformat": 4,
 "nbformat_minor": 2
}
